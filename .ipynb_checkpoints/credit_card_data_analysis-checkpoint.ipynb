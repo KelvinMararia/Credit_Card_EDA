{
 "cells": [
  {
   "cell_type": "markdown",
   "id": "2b809bf1",
   "metadata": {},
   "source": [
    "#                                 Exploratory Data Analysis for Creadit Card Data\n",
    "\n",
    "\n",
    "### Import libraries"
   ]
  },
  {
   "cell_type": "code",
   "execution_count": 1,
   "id": "283cf90f",
   "metadata": {},
   "outputs": [],
   "source": [
    "import pandas as pd\n",
    "import numpy\n",
    "import matplotlib.pyplot as plt\n"
   ]
  },
  {
   "cell_type": "code",
   "execution_count": null,
   "id": "f67931b6",
   "metadata": {},
   "outputs": [],
   "source": [
    "customer_acq = pd.read_csv()\n",
    "c_spend = pd.read_csv()\n",
    "c_repay = pd.read_csv()\n"
   ]
  }
 ],
 "metadata": {
  "kernelspec": {
   "display_name": "Python 3 (ipykernel)",
   "language": "python",
   "name": "python3"
  },
  "language_info": {
   "codemirror_mode": {
    "name": "ipython",
    "version": 3
   },
   "file_extension": ".py",
   "mimetype": "text/x-python",
   "name": "python",
   "nbconvert_exporter": "python",
   "pygments_lexer": "ipython3",
   "version": "3.9.13"
  }
 },
 "nbformat": 4,
 "nbformat_minor": 5
}
